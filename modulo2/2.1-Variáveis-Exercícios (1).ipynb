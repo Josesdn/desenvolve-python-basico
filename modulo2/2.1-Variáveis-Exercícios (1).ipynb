{
  "metadata": {
    "kernelspec": {
      "name": "python",
      "display_name": "Python (Pyodide)",
      "language": "python"
    },
    "language_info": {
      "codemirror_mode": {
        "name": "python",
        "version": 3
      },
      "file_extension": ".py",
      "mimetype": "text/x-python",
      "name": "python",
      "nbconvert_exporter": "python",
      "pygments_lexer": "ipython3",
      "version": "3.8"
    }
  },
  "nbformat_minor": 5,
  "nbformat": 4,
  "cells": [
    {
      "id": "ca880300-5be7-49f5-bd7b-f472451b121f",
      "cell_type": "code",
      "source": "",
      "metadata": {
        "trusted": true
      },
      "outputs": [],
      "execution_count": null
    },
    {
      "id": "a9d28135",
      "cell_type": "markdown",
      "source": "# Módulo 2\n## 2.1 Variáveis\n\n### Q1. \nSelecione todos os itens a seguir que contém nomes válidos de variáveis. Lembre-se que alguns nomes com estrutura válida são palavras reservadas da linguagem e portanto não podem nomear variáveis.\n\n    a) nome_completo \n    b) quantidade@produtos\t\n    c) idade\t\n    d) soma idades \n    e) MediaNotas\n    f) _tipo\n    g) 2total\n    h) lambda",
      "metadata": {}
    },
    {
      "id": "23ab7106",
      "cell_type": "code",
      "source": "# Preencha o print com as alternativas corretas\n# separadas por espaços em branco.\n# Ex: print(\"a b c\")\nprint(\"a) nome_completo c) idade e) MediaNotas f)_tipo\")",
      "metadata": {
        "trusted": true
      },
      "outputs": [
        {
          "name": "stdout",
          "output_type": "stream",
          "text": "a) nome_completo c) idade e) MediaNotas f)_tipo\n"
        }
      ],
      "execution_count": 2
    },
    {
      "id": "f56d2b28",
      "cell_type": "markdown",
      "source": "---\n### Q2. \nDados os scripts a seguir, faça: \n- Para os scripts corretos escreva o resultado impresso ao final da execução\n- Para os incorretos descreva todos os erros identificados apontando a linha onde cada erro acontece.\n",
      "metadata": {}
    },
    {
      "id": "7b95e8f9-10ea-4982-bb01-4001b5d90a84",
      "cell_type": "code",
      "source": "\n# Script 1\nx = 10\ny = x + 2\nprint(y - 5)\n",
      "metadata": {
        "trusted": true
      },
      "outputs": [
        {
          "name": "stdout",
          "output_type": "stream",
          "text": "7\n"
        }
      ],
      "execution_count": 14
    },
    {
      "id": "4371ac7b",
      "cell_type": "code",
      "source": "# preencha o print com sua resposta\nprint(\"7\")",
      "metadata": {
        "trusted": true
      },
      "outputs": [
        {
          "name": "stdout",
          "output_type": "stream",
          "text": "7\n"
        }
      ],
      "execution_count": 16
    },
    {
      "id": "12ded5a3-df62-411f-ba37-1f62758dfc59",
      "cell_type": "code",
      "source": "\n# Script 2\nsoma = n1 + n2\nprint(soma) \n",
      "metadata": {
        "trusted": true
      },
      "outputs": [
        {
          "ename": "<class 'NameError'>",
          "evalue": "name 'n1' is not defined",
          "traceback": [
            "\u001b[0;31m---------------------------------------------------------------------------\u001b[0m",
            "\u001b[0;31mNameError\u001b[0m                                 Traceback (most recent call last)",
            "Cell \u001b[0;32mIn[15], line 2\u001b[0m\n\u001b[1;32m      1\u001b[0m \u001b[38;5;66;03m# Script 2\u001b[39;00m\n\u001b[0;32m----> 2\u001b[0m soma \u001b[38;5;241m=\u001b[39m \u001b[43mn1\u001b[49m \u001b[38;5;241m+\u001b[39m n2\n\u001b[1;32m      3\u001b[0m \u001b[38;5;28mprint\u001b[39m(soma) \n",
            "\u001b[0;31mNameError\u001b[0m: name 'n1' is not defined"
          ],
          "output_type": "error"
        }
      ],
      "execution_count": 15
    },
    {
      "id": "82b5064b",
      "cell_type": "code",
      "source": "# preencha o print com sua resposta\nprint(\"name 'n1' is not defined\")",
      "metadata": {
        "trusted": true
      },
      "outputs": [
        {
          "name": "stdout",
          "output_type": "stream",
          "text": " \n"
        }
      ],
      "execution_count": 2
    },
    {
      "id": "5465108c-79fd-43a9-9828-99db134c5ec7",
      "cell_type": "code",
      "source": "\n# Script 3\na = 10\na = a + 1\nprint(a)\n",
      "metadata": {
        "trusted": true
      },
      "outputs": [
        {
          "name": "stdout",
          "output_type": "stream",
          "text": "11\n"
        }
      ],
      "execution_count": 17
    },
    {
      "id": "7b9db0c7",
      "cell_type": "code",
      "source": "# preencha o print com sua resposta\nprint(\"11\")",
      "metadata": {
        "trusted": true
      },
      "outputs": [
        {
          "name": "stdout",
          "output_type": "stream",
          "text": " \n"
        }
      ],
      "execution_count": 3
    },
    {
      "id": "5f36ec68-9674-4cbe-98e7-3cdac915ca27",
      "cell_type": "code",
      "source": "\n# Script 4\nsaldo da conta = 1500\n0.1 = juros\nprint(saldo da conta * juros)\n",
      "metadata": {
        "trusted": true
      },
      "outputs": [
        {
          "ename": "<class 'SyntaxError'>",
          "evalue": "invalid syntax (<ipython-input-18-10e43de896fd>, line 2)",
          "traceback": [
            "\u001b[0;36m  Cell \u001b[0;32mIn[18], line 2\u001b[0;36m\u001b[0m\n\u001b[0;31m    saldo da conta = 1500\u001b[0m\n\u001b[0m          ^\u001b[0m\n\u001b[0;31mSyntaxError\u001b[0m\u001b[0;31m:\u001b[0m invalid syntax\n"
          ],
          "output_type": "error"
        }
      ],
      "execution_count": 18
    },
    {
      "id": "2dec64ac",
      "cell_type": "code",
      "source": "# preencha o print com sua resposta\nprint(\" saldo da conta = 1500\n          ^\nSyntaxError: invalid syntax\")",
      "metadata": {
        "trusted": true
      },
      "outputs": [
        {
          "name": "stdout",
          "output_type": "stream",
          "text": " \n"
        }
      ],
      "execution_count": 4
    },
    {
      "id": "9ba1f2a8",
      "cell_type": "markdown",
      "source": "---\n### Q3.\nDeclare três variáveis, `num1`, `num2` e `num3`, com valores inteiros numéricos de sua escolha. Calcule e imprima a média desses três números. Utilize a fórmula: `(num1 + num2 + num3) / 3`.",
      "metadata": {}
    },
    {
      "id": "e1963351",
      "cell_type": "code",
      "source": "num1= 2\nnum2= 4\nnum3= 8\nmedia= (num1+num2+num3)/3\nprint(media)\n",
      "metadata": {
        "trusted": true
      },
      "outputs": [
        {
          "name": "stdout",
          "output_type": "stream",
          "text": "4.666666666666667\n"
        }
      ],
      "execution_count": 25
    },
    {
      "id": "7940ba20",
      "cell_type": "markdown",
      "source": "--- \n### Q4.\nEscreva um script python que:\n- Armazene em uma variável uma velocidade de 90 km/h\n- Calcule e armazene o equivalente em m/s\n    - Divida o valor original por 3.6 para obter o resultado em m/s. Em python a sintaxe da divisão e atribuição é c = a / b \n- Imprima na tela a velocidade o resultado m/s\n",
      "metadata": {}
    },
    {
      "id": "dd4fe7ae",
      "cell_type": "code",
      "source": "velo_km= 90\nvelo_m= velo_km / 3.6\nprint(\"a velocidade de 90km/h em m/s é igual a:\", velo_m)\n",
      "metadata": {
        "trusted": true
      },
      "outputs": [
        {
          "name": "stdout",
          "output_type": "stream",
          "text": "a velocidade de 90km/h em m/s é igual a: 25.0\n"
        }
      ],
      "execution_count": 31
    },
    {
      "id": "cc714a42",
      "cell_type": "markdown",
      "source": "---\n### Q5.\nEscreva um script python que:\n- Armazene o seu nome em uma variável\n    - Dica: para armazenar textos em variáveis basta colocar a palavra desejada entre aspas, ex: \"Camila\", à direita do operador de atribuição.\n- Imprima o texto \"Meu nome é:\"\n- Imprima a variável com seu nome\n",
      "metadata": {}
    },
    {
      "id": "10a6a794",
      "cell_type": "code",
      "source": "Nome=\"jose\" \nprint(\"meu nome é:\", Nome)",
      "metadata": {
        "trusted": true
      },
      "outputs": [
        {
          "name": "stdout",
          "output_type": "stream",
          "text": "meu nome é: jose\n"
        }
      ],
      "execution_count": 34
    },
    {
      "id": "2e3185ba-681b-42f4-bcf7-f5cbe859496d",
      "cell_type": "code",
      "source": "",
      "metadata": {
        "trusted": true
      },
      "outputs": [],
      "execution_count": null
    },
    {
      "id": "27ef5406-debc-4c53-ada0-820e75c00802",
      "cell_type": "code",
      "source": "",
      "metadata": {
        "trusted": true
      },
      "outputs": [],
      "execution_count": null
    },
    {
      "id": "ae053fcb-c23a-419a-a952-d128ebf0fd0c",
      "cell_type": "code",
      "source": "",
      "metadata": {
        "trusted": true
      },
      "outputs": [],
      "execution_count": null
    },
    {
      "id": "d55a8725-19ea-4862-a752-9f55d67777bf",
      "cell_type": "code",
      "source": "",
      "metadata": {
        "trusted": true
      },
      "outputs": [],
      "execution_count": null
    },
    {
      "id": "a41bc719-c128-4e3c-b255-bb5cb3ee1e56",
      "cell_type": "code",
      "source": "",
      "metadata": {
        "trusted": true
      },
      "outputs": [],
      "execution_count": null
    },
    {
      "id": "12c4c562-c1f0-4c75-ae45-926dd4e49b8e",
      "cell_type": "code",
      "source": "",
      "metadata": {
        "trusted": true
      },
      "outputs": [],
      "execution_count": null
    }
  ]
}